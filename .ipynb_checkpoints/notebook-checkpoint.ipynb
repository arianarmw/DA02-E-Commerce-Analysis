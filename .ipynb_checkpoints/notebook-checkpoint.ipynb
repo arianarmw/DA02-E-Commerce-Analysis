{
 "cells": [
  {
   "cell_type": "markdown",
   "id": "c5b45ec8-b9b5-4dde-827d-6569435800ae",
   "metadata": {},
   "source": [
    "# **Data Analysis Project**\n",
    "## **E-Commerce Dataset**"
   ]
  },
  {
   "cell_type": "markdown",
   "id": "0f80ddbf-20a9-4bd5-8fd6-ac558e240d64",
   "metadata": {
    "jp-MarkdownHeadingCollapsed": true
   },
   "source": [
    "## **Business Questions**\n",
    "1. Apa metode pembayaran yang paling sering digunakan oleh pelanggan?\n",
    "2. Apa metode pembayaran yang menghasilkan pendapatan tertinggi secara keseluruhan?\n",
    "3. Apa metode pembayaran yang paling sering digunakan oleh pelanggan di hari-hari tertentu?\n",
    "4. Apa metode pembayaran yang paling sering digunakan oleh pelanggan di bulan-bulan tertentu?\n",
    "5. Apa kategori produk yang menghasilkan pendapatan tertinggi secara keseluruhan?\n",
    "6. Apakah kategori produk yang dapat menghasilkan pendapatan tertinggi memiliki diskon atau potongan harga yang tinggi juga?\n",
    "7. Apakah diskon dapat mempengaruhi jumlah pembelian?"
   ]
  },
  {
   "cell_type": "markdown",
   "id": "7f405d8a-d217-4c52-8dee-2f86d7e1d0be",
   "metadata": {
    "jp-MarkdownHeadingCollapsed": true
   },
   "source": [
    "## **Import Packages/Library**"
   ]
  },
  {
   "cell_type": "code",
   "execution_count": 1,
   "id": "d2872d9a-a41c-4379-912b-5775ac4aa142",
   "metadata": {},
   "outputs": [],
   "source": [
    "import kagglehub\n",
    "import numpy as np\n",
    "import pandas as pd\n",
    "import matplotlib.pyplot as plt\n",
    "import seaborn as sns"
   ]
  },
  {
   "cell_type": "markdown",
   "id": "877d2932-96ff-4bb3-84a7-5fb22e0c6227",
   "metadata": {},
   "source": [
    "## **Data Wrangling**"
   ]
  },
  {
   "cell_type": "markdown",
   "id": "635bc8e0-d6ce-47d2-8a00-13fa85225bf4",
   "metadata": {
    "jp-MarkdownHeadingCollapsed": true
   },
   "source": [
    "### **Gathering Data**"
   ]
  },
  {
   "cell_type": "code",
   "execution_count": 2,
   "id": "e55b974c-d44e-48ff-b348-bbbe566baf4c",
   "metadata": {},
   "outputs": [
    {
     "data": {
      "text/html": [
       "<div>\n",
       "<style scoped>\n",
       "    .dataframe tbody tr th:only-of-type {\n",
       "        vertical-align: middle;\n",
       "    }\n",
       "\n",
       "    .dataframe tbody tr th {\n",
       "        vertical-align: top;\n",
       "    }\n",
       "\n",
       "    .dataframe thead th {\n",
       "        text-align: right;\n",
       "    }\n",
       "</style>\n",
       "<table border=\"1\" class=\"dataframe\">\n",
       "  <thead>\n",
       "    <tr style=\"text-align: right;\">\n",
       "      <th></th>\n",
       "      <th>User_ID</th>\n",
       "      <th>Product_ID</th>\n",
       "      <th>Category</th>\n",
       "      <th>Price (Rs.)</th>\n",
       "      <th>Discount (%)</th>\n",
       "      <th>Final_Price(Rs.)</th>\n",
       "      <th>Payment_Method</th>\n",
       "      <th>Purchase_Date</th>\n",
       "    </tr>\n",
       "  </thead>\n",
       "  <tbody>\n",
       "    <tr>\n",
       "      <th>0</th>\n",
       "      <td>337c166f</td>\n",
       "      <td>f414122f-e</td>\n",
       "      <td>Sports</td>\n",
       "      <td>36.53</td>\n",
       "      <td>15</td>\n",
       "      <td>31.05</td>\n",
       "      <td>Net Banking</td>\n",
       "      <td>12-11-2024</td>\n",
       "    </tr>\n",
       "    <tr>\n",
       "      <th>1</th>\n",
       "      <td>d38a19bf</td>\n",
       "      <td>fde50f9c-5</td>\n",
       "      <td>Clothing</td>\n",
       "      <td>232.79</td>\n",
       "      <td>20</td>\n",
       "      <td>186.23</td>\n",
       "      <td>Net Banking</td>\n",
       "      <td>09-02-2024</td>\n",
       "    </tr>\n",
       "    <tr>\n",
       "      <th>2</th>\n",
       "      <td>d7f5f0b0</td>\n",
       "      <td>0d96fc90-3</td>\n",
       "      <td>Sports</td>\n",
       "      <td>317.02</td>\n",
       "      <td>25</td>\n",
       "      <td>237.76</td>\n",
       "      <td>Credit Card</td>\n",
       "      <td>01-09-2024</td>\n",
       "    </tr>\n",
       "    <tr>\n",
       "      <th>3</th>\n",
       "      <td>395d4994</td>\n",
       "      <td>964fc44b-d</td>\n",
       "      <td>Toys</td>\n",
       "      <td>173.19</td>\n",
       "      <td>25</td>\n",
       "      <td>129.89</td>\n",
       "      <td>UPI</td>\n",
       "      <td>01-04-2024</td>\n",
       "    </tr>\n",
       "    <tr>\n",
       "      <th>4</th>\n",
       "      <td>a83c145c</td>\n",
       "      <td>d70e2fc6-e</td>\n",
       "      <td>Beauty</td>\n",
       "      <td>244.80</td>\n",
       "      <td>20</td>\n",
       "      <td>195.84</td>\n",
       "      <td>Net Banking</td>\n",
       "      <td>27-09-2024</td>\n",
       "    </tr>\n",
       "  </tbody>\n",
       "</table>\n",
       "</div>"
      ],
      "text/plain": [
       "    User_ID  Product_ID  Category  Price (Rs.)  Discount (%)  \\\n",
       "0  337c166f  f414122f-e    Sports        36.53            15   \n",
       "1  d38a19bf  fde50f9c-5  Clothing       232.79            20   \n",
       "2  d7f5f0b0  0d96fc90-3    Sports       317.02            25   \n",
       "3  395d4994  964fc44b-d      Toys       173.19            25   \n",
       "4  a83c145c  d70e2fc6-e    Beauty       244.80            20   \n",
       "\n",
       "   Final_Price(Rs.) Payment_Method Purchase_Date  \n",
       "0             31.05    Net Banking    12-11-2024  \n",
       "1            186.23    Net Banking    09-02-2024  \n",
       "2            237.76    Credit Card    01-09-2024  \n",
       "3            129.89            UPI    01-04-2024  \n",
       "4            195.84    Net Banking    27-09-2024  "
      ]
     },
     "execution_count": 2,
     "metadata": {},
     "output_type": "execute_result"
    }
   ],
   "source": [
    "# Load ecommerce dataset table into DataFrame\n",
    "ecommerce_df = pd.read_csv('./data/ecommerce_dataset.csv')\n",
    "ecommerce_df.head()"
   ]
  },
  {
   "cell_type": "markdown",
   "id": "fb0f281e-9333-47fb-9864-f6beefe71246",
   "metadata": {
    "jp-MarkdownHeadingCollapsed": true
   },
   "source": [
    "### **Assessing Data**"
   ]
  },
  {
   "cell_type": "code",
   "execution_count": 3,
   "id": "ea2fc43c-dec2-474d-b59b-96ebe2204350",
   "metadata": {},
   "outputs": [
    {
     "name": "stdout",
     "output_type": "stream",
     "text": [
      "<class 'pandas.core.frame.DataFrame'>\n",
      "RangeIndex: 3660 entries, 0 to 3659\n",
      "Data columns (total 8 columns):\n",
      " #   Column            Non-Null Count  Dtype  \n",
      "---  ------            --------------  -----  \n",
      " 0   User_ID           3660 non-null   object \n",
      " 1   Product_ID        3660 non-null   object \n",
      " 2   Category          3660 non-null   object \n",
      " 3   Price (Rs.)       3660 non-null   float64\n",
      " 4   Discount (%)      3660 non-null   int64  \n",
      " 5   Final_Price(Rs.)  3660 non-null   float64\n",
      " 6   Payment_Method    3660 non-null   object \n",
      " 7   Purchase_Date     3660 non-null   object \n",
      "dtypes: float64(2), int64(1), object(5)\n",
      "memory usage: 228.9+ KB\n"
     ]
    }
   ],
   "source": [
    "# Menampilkan informasi umum untuk ecommerce_df\n",
    "ecommerce_df.info()"
   ]
  },
  {
   "cell_type": "code",
   "execution_count": 4,
   "id": "99c41266-ef7c-4dd5-bf29-0a2ecda2d47f",
   "metadata": {},
   "outputs": [
    {
     "data": {
      "text/html": [
       "<div>\n",
       "<style scoped>\n",
       "    .dataframe tbody tr th:only-of-type {\n",
       "        vertical-align: middle;\n",
       "    }\n",
       "\n",
       "    .dataframe tbody tr th {\n",
       "        vertical-align: top;\n",
       "    }\n",
       "\n",
       "    .dataframe thead th {\n",
       "        text-align: right;\n",
       "    }\n",
       "</style>\n",
       "<table border=\"1\" class=\"dataframe\">\n",
       "  <thead>\n",
       "    <tr style=\"text-align: right;\">\n",
       "      <th></th>\n",
       "      <th>Price (Rs.)</th>\n",
       "      <th>Discount (%)</th>\n",
       "      <th>Final_Price(Rs.)</th>\n",
       "    </tr>\n",
       "  </thead>\n",
       "  <tbody>\n",
       "    <tr>\n",
       "      <th>count</th>\n",
       "      <td>3660.000000</td>\n",
       "      <td>3660.000000</td>\n",
       "      <td>3660.000000</td>\n",
       "    </tr>\n",
       "    <tr>\n",
       "      <th>mean</th>\n",
       "      <td>254.800675</td>\n",
       "      <td>18.825137</td>\n",
       "      <td>206.906579</td>\n",
       "    </tr>\n",
       "    <tr>\n",
       "      <th>std</th>\n",
       "      <td>141.682621</td>\n",
       "      <td>14.731338</td>\n",
       "      <td>122.687844</td>\n",
       "    </tr>\n",
       "    <tr>\n",
       "      <th>min</th>\n",
       "      <td>10.090000</td>\n",
       "      <td>0.000000</td>\n",
       "      <td>5.890000</td>\n",
       "    </tr>\n",
       "    <tr>\n",
       "      <th>25%</th>\n",
       "      <td>134.012500</td>\n",
       "      <td>5.000000</td>\n",
       "      <td>104.512500</td>\n",
       "    </tr>\n",
       "    <tr>\n",
       "      <th>50%</th>\n",
       "      <td>253.845000</td>\n",
       "      <td>15.000000</td>\n",
       "      <td>199.185000</td>\n",
       "    </tr>\n",
       "    <tr>\n",
       "      <th>75%</th>\n",
       "      <td>377.595000</td>\n",
       "      <td>25.000000</td>\n",
       "      <td>304.117500</td>\n",
       "    </tr>\n",
       "    <tr>\n",
       "      <th>max</th>\n",
       "      <td>499.960000</td>\n",
       "      <td>50.000000</td>\n",
       "      <td>496.820000</td>\n",
       "    </tr>\n",
       "  </tbody>\n",
       "</table>\n",
       "</div>"
      ],
      "text/plain": [
       "       Price (Rs.)  Discount (%)  Final_Price(Rs.)\n",
       "count  3660.000000   3660.000000       3660.000000\n",
       "mean    254.800675     18.825137        206.906579\n",
       "std     141.682621     14.731338        122.687844\n",
       "min      10.090000      0.000000          5.890000\n",
       "25%     134.012500      5.000000        104.512500\n",
       "50%     253.845000     15.000000        199.185000\n",
       "75%     377.595000     25.000000        304.117500\n",
       "max     499.960000     50.000000        496.820000"
      ]
     },
     "execution_count": 4,
     "metadata": {},
     "output_type": "execute_result"
    }
   ],
   "source": [
    "# Menampilkan statistik deskriptif untuk ecommerce_df\n",
    "ecommerce_df.describe()"
   ]
  },
  {
   "cell_type": "code",
   "execution_count": 5,
   "id": "3985ba15-36cd-4882-9c38-fcbaf12ff379",
   "metadata": {},
   "outputs": [
    {
     "data": {
      "text/plain": [
       "User_ID             0\n",
       "Product_ID          0\n",
       "Category            0\n",
       "Price (Rs.)         0\n",
       "Discount (%)        0\n",
       "Final_Price(Rs.)    0\n",
       "Payment_Method      0\n",
       "Purchase_Date       0\n",
       "dtype: int64"
      ]
     },
     "execution_count": 5,
     "metadata": {},
     "output_type": "execute_result"
    }
   ],
   "source": [
    "# Cek missing values untuk ecommerce_df\n",
    "ecommerce_df.isnull().sum()"
   ]
  },
  {
   "cell_type": "code",
   "execution_count": 6,
   "id": "26c125c6-04b9-4d8d-be1a-6e05f9a254a4",
   "metadata": {},
   "outputs": [
    {
     "data": {
      "text/plain": [
       "0"
      ]
     },
     "execution_count": 6,
     "metadata": {},
     "output_type": "execute_result"
    }
   ],
   "source": [
    "# Cek duplikasi untuk ecommerce_df\n",
    "ecommerce_df.duplicated().sum()"
   ]
  },
  {
   "cell_type": "markdown",
   "id": "a1c7f496-e9a6-4195-940e-05270f220524",
   "metadata": {},
   "source": [
    "#### **Insight**\n",
    "- Tipe data untuk kolom Purchase_Date merupakan object, seharusnya tipe data yang dimiliki adalah datetime.\n",
    "- Tidak ada missing values yang ditemukan pada ecommerce_df\n",
    "- Tidak ada duplikasi yang ditemukan pada ecommerce_df"
   ]
  },
  {
   "cell_type": "markdown",
   "id": "e44bf137-08fd-4c38-b913-92c98c9d04d3",
   "metadata": {
    "jp-MarkdownHeadingCollapsed": true
   },
   "source": [
    "### **Cleaning Data**"
   ]
  },
  {
   "cell_type": "code",
   "execution_count": 7,
   "id": "60484424-93f8-4f4c-a20a-fe53c5ee2394",
   "metadata": {},
   "outputs": [],
   "source": [
    "ecommerce_df['Purchase_Date'] = pd.to_datetime(ecommerce_df['Purchase_Date'], errors='coerce', format=\"%d-%m-%Y\")"
   ]
  },
  {
   "cell_type": "code",
   "execution_count": 8,
   "id": "a5d3450e-2ab3-47cf-8991-a9989a1126c5",
   "metadata": {},
   "outputs": [
    {
     "name": "stdout",
     "output_type": "stream",
     "text": [
      "<class 'pandas.core.frame.DataFrame'>\n",
      "RangeIndex: 3660 entries, 0 to 3659\n",
      "Data columns (total 8 columns):\n",
      " #   Column            Non-Null Count  Dtype         \n",
      "---  ------            --------------  -----         \n",
      " 0   User_ID           3660 non-null   object        \n",
      " 1   Product_ID        3660 non-null   object        \n",
      " 2   Category          3660 non-null   object        \n",
      " 3   Price (Rs.)       3660 non-null   float64       \n",
      " 4   Discount (%)      3660 non-null   int64         \n",
      " 5   Final_Price(Rs.)  3660 non-null   float64       \n",
      " 6   Payment_Method    3660 non-null   object        \n",
      " 7   Purchase_Date     3660 non-null   datetime64[ns]\n",
      "dtypes: datetime64[ns](1), float64(2), int64(1), object(4)\n",
      "memory usage: 228.9+ KB\n"
     ]
    }
   ],
   "source": [
    "ecommerce_df.info()"
   ]
  },
  {
   "cell_type": "code",
   "execution_count": 9,
   "id": "8a9fac51-3a77-4919-8c93-f3d9df819523",
   "metadata": {},
   "outputs": [
    {
     "data": {
      "text/html": [
       "<div>\n",
       "<style scoped>\n",
       "    .dataframe tbody tr th:only-of-type {\n",
       "        vertical-align: middle;\n",
       "    }\n",
       "\n",
       "    .dataframe tbody tr th {\n",
       "        vertical-align: top;\n",
       "    }\n",
       "\n",
       "    .dataframe thead th {\n",
       "        text-align: right;\n",
       "    }\n",
       "</style>\n",
       "<table border=\"1\" class=\"dataframe\">\n",
       "  <thead>\n",
       "    <tr style=\"text-align: right;\">\n",
       "      <th></th>\n",
       "      <th>User_ID</th>\n",
       "      <th>Product_ID</th>\n",
       "      <th>Category</th>\n",
       "      <th>Price (Rs.)</th>\n",
       "      <th>Discount (%)</th>\n",
       "      <th>Final_Price(Rs.)</th>\n",
       "      <th>Payment_Method</th>\n",
       "      <th>Purchase_Date</th>\n",
       "    </tr>\n",
       "  </thead>\n",
       "  <tbody>\n",
       "    <tr>\n",
       "      <th>0</th>\n",
       "      <td>337c166f</td>\n",
       "      <td>f414122f-e</td>\n",
       "      <td>Sports</td>\n",
       "      <td>36.53</td>\n",
       "      <td>15</td>\n",
       "      <td>31.05</td>\n",
       "      <td>Net Banking</td>\n",
       "      <td>2024-11-12</td>\n",
       "    </tr>\n",
       "    <tr>\n",
       "      <th>1</th>\n",
       "      <td>d38a19bf</td>\n",
       "      <td>fde50f9c-5</td>\n",
       "      <td>Clothing</td>\n",
       "      <td>232.79</td>\n",
       "      <td>20</td>\n",
       "      <td>186.23</td>\n",
       "      <td>Net Banking</td>\n",
       "      <td>2024-02-09</td>\n",
       "    </tr>\n",
       "    <tr>\n",
       "      <th>2</th>\n",
       "      <td>d7f5f0b0</td>\n",
       "      <td>0d96fc90-3</td>\n",
       "      <td>Sports</td>\n",
       "      <td>317.02</td>\n",
       "      <td>25</td>\n",
       "      <td>237.76</td>\n",
       "      <td>Credit Card</td>\n",
       "      <td>2024-09-01</td>\n",
       "    </tr>\n",
       "    <tr>\n",
       "      <th>3</th>\n",
       "      <td>395d4994</td>\n",
       "      <td>964fc44b-d</td>\n",
       "      <td>Toys</td>\n",
       "      <td>173.19</td>\n",
       "      <td>25</td>\n",
       "      <td>129.89</td>\n",
       "      <td>UPI</td>\n",
       "      <td>2024-04-01</td>\n",
       "    </tr>\n",
       "    <tr>\n",
       "      <th>4</th>\n",
       "      <td>a83c145c</td>\n",
       "      <td>d70e2fc6-e</td>\n",
       "      <td>Beauty</td>\n",
       "      <td>244.80</td>\n",
       "      <td>20</td>\n",
       "      <td>195.84</td>\n",
       "      <td>Net Banking</td>\n",
       "      <td>2024-09-27</td>\n",
       "    </tr>\n",
       "  </tbody>\n",
       "</table>\n",
       "</div>"
      ],
      "text/plain": [
       "    User_ID  Product_ID  Category  Price (Rs.)  Discount (%)  \\\n",
       "0  337c166f  f414122f-e    Sports        36.53            15   \n",
       "1  d38a19bf  fde50f9c-5  Clothing       232.79            20   \n",
       "2  d7f5f0b0  0d96fc90-3    Sports       317.02            25   \n",
       "3  395d4994  964fc44b-d      Toys       173.19            25   \n",
       "4  a83c145c  d70e2fc6-e    Beauty       244.80            20   \n",
       "\n",
       "   Final_Price(Rs.) Payment_Method Purchase_Date  \n",
       "0             31.05    Net Banking    2024-11-12  \n",
       "1            186.23    Net Banking    2024-02-09  \n",
       "2            237.76    Credit Card    2024-09-01  \n",
       "3            129.89            UPI    2024-04-01  \n",
       "4            195.84    Net Banking    2024-09-27  "
      ]
     },
     "execution_count": 9,
     "metadata": {},
     "output_type": "execute_result"
    }
   ],
   "source": [
    "ecommerce_df.head()"
   ]
  },
  {
   "cell_type": "markdown",
   "id": "71daaa21-c1d4-41a8-9b8c-4fdeab48e278",
   "metadata": {},
   "source": [
    "## **Exploratory Data Analysis (EDA)**"
   ]
  },
  {
   "cell_type": "markdown",
   "id": "50d446c6-8e5e-448d-8eda-f1933456ee40",
   "metadata": {
    "jp-MarkdownHeadingCollapsed": true
   },
   "source": [
    "### **Eksplorasi Pertanyaan 1**\n",
    "**Apa metode pembayaran yang paling sering digunakan oleh pelanggan?**"
   ]
  },
  {
   "cell_type": "code",
   "execution_count": 24,
   "id": "13c3162a-c401-4b5c-8621-98abc5166b07",
   "metadata": {},
   "outputs": [
    {
     "name": "stdout",
     "output_type": "stream",
     "text": [
      "Payment_Method\n",
      "Credit Card         760\n",
      "UPI                 757\n",
      "Debit Card          731\n",
      "Net Banking         716\n",
      "Cash on Delivery    696\n",
      "Name: count, dtype: int64\n"
     ]
    }
   ],
   "source": [
    "pm_counts = ecommerce_df['Payment_Method'].value_counts()\n",
    "print(pm_counts)"
   ]
  },
  {
   "cell_type": "markdown",
   "id": "3c80ba26-abcb-4141-a4f3-690f3aef150e",
   "metadata": {},
   "source": [
    "#### **Insight**\n",
    "Metode pembayaran yang disediakan oleh E-Commerce ada 5 macam, yaitu Credit Card, UPI, Debit Card, Net Banking, dan Cash on Delivery. \n",
    "Dari kelima macam metode pembayaran yang disediakan, terdapat metode pembayaran dengan penggunaan transaksi tertinggi adalah Credit Card sebanyak 760 kali. Sedangkan, metode pembayaran dengan penggunaan transaksi terendah adalah Cash on Delivery sebanyak 696 kali."
   ]
  },
  {
   "cell_type": "markdown",
   "id": "b31d89d0-941e-4f70-a97a-eaaa7d022333",
   "metadata": {
    "jp-MarkdownHeadingCollapsed": true
   },
   "source": [
    "### **Eksplorasi Pertanyaan 2**\n",
    "**Apa metode pembayaran yang menghasilkan pendapatan tertinggi secara keseluruhan?**"
   ]
  },
  {
   "cell_type": "code",
   "execution_count": 26,
   "id": "55669b7a-4aad-49e2-9d5f-e78f310edf1c",
   "metadata": {},
   "outputs": [
    {
     "name": "stdout",
     "output_type": "stream",
     "text": [
      "Payment_Method\n",
      "Credit Card         156017.9690\n",
      "UPI                 154684.9195\n",
      "Debit Card          153362.1985\n",
      "Net Banking         146804.4100\n",
      "Cash on Delivery    146408.5690\n",
      "Name: Final_Price(Rs.), dtype: float64\n"
     ]
    }
   ],
   "source": [
    "revenue_by_pm = ecommerce_df.groupby('Payment_Method')['Final_Price(Rs.)'].sum().sort_values(ascending=False)\n",
    "print(revenue_by_pm)"
   ]
  },
  {
   "cell_type": "markdown",
   "id": "f4bab884-e772-4b48-a2e5-d25e4b7875f0",
   "metadata": {},
   "source": [
    "#### **Insight**\n",
    "Metode pembayaran yang menghasilkan pendapatan tertinggi secara keseluruhan adalah Credit Card dengan total 15,6017.9690 Rs (Indian Rupe). Sedangkan, metode pembayaran yang menghasilkan pendapatan terendah secara keseluruhan adalah Cash on Delivery dengan total 14,6408.5690 Rs (Indian Rupe)."
   ]
  },
  {
   "cell_type": "markdown",
   "id": "c2363100-ebee-4974-9ae9-022d8dcd7a3e",
   "metadata": {
    "jp-MarkdownHeadingCollapsed": true
   },
   "source": [
    "### **Eksplorasi Pertanyaan 3**\n",
    "**Apa metode pembayaran yang paling sering digunakan oleh pelanggan di hari-hari tertentu?**"
   ]
  },
  {
   "cell_type": "code",
   "execution_count": 32,
   "id": "6ed063bd-e028-4d66-902c-53b1e2dfdc2e",
   "metadata": {},
   "outputs": [
    {
     "name": "stdout",
     "output_type": "stream",
     "text": [
      "Metode Pembayaran Paling Sering Digunakan di Setiap Hari:\n",
      "            Most_Used_Payment_Method  Usage_Count\n",
      "Day_of_Week                                      \n",
      "Friday                           UPI          109\n",
      "Monday                           UPI          120\n",
      "Saturday            Cash on Delivery          110\n",
      "Sunday                           UPI          120\n",
      "Thursday                 Net Banking          112\n",
      "Tuesday                  Credit Card          124\n",
      "Wednesday                Net Banking          117\n"
     ]
    }
   ],
   "source": [
    "ecommerce_df['Day'] = ecommerce_df['Purchase_Date'].dt.day_name()\n",
    "payment_by_month = ecommerce_df.groupby(['Day', 'Payment_Method']).size().unstack(fill_value=0)\n",
    "popular_payment_method = payment_by_day.idxmax(axis=1)\n",
    "popular_payment_count = payment_by_day.max(axis=1)\n",
    "payment_summary = pd.DataFrame({\n",
    "    'Most_Used_Payment_Method': popular_payment_method,\n",
    "    'Usage_Count': popular_payment_count\n",
    "})\n",
    "print(\"Metode Pembayaran Paling Sering Digunakan di Setiap Hari:\")\n",
    "print(payment_summary)"
   ]
  },
  {
   "cell_type": "markdown",
   "id": "d41616a1-b07d-45cf-816a-29861ca60e41",
   "metadata": {},
   "source": [
    "#### **Insight**\n",
    "1. Monday: Metode pembayaran yang paling sering digunakan pada hari Senin adalah UPI sebanyak 120 kali.\n",
    "2. Tuesday: Metode pembayaran yang paling sering digunakan pada hari Selasa adalah Credit Card sebanyak 124 kali.\n",
    "3. Wednesday: Metode pembayaran yang paling sering digunakan pada hari Rabu adalah Net Banking sebanyak 117 kali.\n",
    "4. Thursday: Metode pembayaran yang paling sering digunakan pada hari Kamis adalah Net Banking sebanyak 112 kali.\n",
    "5. Friday: Metode pembayaran yang paling sering digunakan pada hari Jumat adalah UPI sebanyak 109 kali.\n",
    "6. Saturday: Metode pembayaran yang paling sering digunakan pada hari Sabtu adalah Cash on Delivery sebanyak 110 kali.\n",
    "7. Sunday: Metode pembayaran yang paling sering digunakan pada hari Minggu adalah UPI sebanyak 120 kali."
   ]
  },
  {
   "cell_type": "markdown",
   "id": "1487f526-0b0c-4d8c-82cd-7394ddde0931",
   "metadata": {
    "jp-MarkdownHeadingCollapsed": true
   },
   "source": [
    "### **Eksplorasi Pertanyaan 4**\n",
    "**Apa metode pembayaran yang paling sering digunakan oleh pelanggan di bulan-bulan tertentu?**"
   ]
  },
  {
   "cell_type": "code",
   "execution_count": 31,
   "id": "d529122c-434d-4712-9d3e-fcd111ab36dd",
   "metadata": {},
   "outputs": [
    {
     "name": "stdout",
     "output_type": "stream",
     "text": [
      "Metode Pembayaran Paling Sering Digunakan di Setiap Bulan:\n",
      "          Most_Used_Payment_Method  Usage_Count\n",
      "Month                                          \n",
      "April                  Credit Card           81\n",
      "August                         UPI           88\n",
      "February                       UPI           77\n",
      "January                Credit Card           77\n",
      "July                   Credit Card           80\n",
      "June                    Debit Card           72\n",
      "March                  Credit Card           82\n",
      "May                    Credit Card           73\n",
      "November          Cash on Delivery           58\n",
      "October                        UPI           85\n",
      "September                      UPI           80\n"
     ]
    }
   ],
   "source": [
    "ecommerce_df['Month'] = ecommerce_df['Purchase_Date'].dt.month_name()\n",
    "payment_by_month = ecommerce_df.groupby(['Month', 'Payment_Method']).size().unstack(fill_value=0)\n",
    "popular_payment_method = payment_by_month.idxmax(axis=1)\n",
    "popular_payment_count = payment_by_month.max(axis=1)\n",
    "payment_summary = pd.DataFrame({\n",
    "    'Most_Used_Payment_Method': popular_payment_method,\n",
    "    'Usage_Count': popular_payment_count\n",
    "})\n",
    "print(\"Metode Pembayaran Paling Sering Digunakan di Setiap Bulan:\")\n",
    "print(payment_summary)"
   ]
  },
  {
   "cell_type": "markdown",
   "id": "56deb872-3513-4bce-90bc-18d8b3d1fa0e",
   "metadata": {},
   "source": [
    "#### **Insight**\n",
    "1. January: Metode pembayaran yang paling sering digunakan pada bulan Januari adalah Credit Card sebanyak 77 kali.\n",
    "2. February: Metode pembayaran yang paling sering digunakan pada bulan Februari adalah UPI sebanyak 77 kali.\n",
    "3. March: Metode pembayaran yang paling sering digunakan pada bulan Maret adalah Credit Card sebanyak 82 kali.\n",
    "4. April: Metode pembayaran yang paling sering digunakan pada bulan April adalah Credit Card sebanyak 81 kali.\n",
    "5. May: Metode pembayaran yang paling sering digunakan pada bulan Mei adalah Credit Card sebanyak 73 kali.\n",
    "6. June: Metode pembayaran yang paling sering digunakan pada bulan Juni adalah Debit Card sebanyak 72 kali.\n",
    "7. July: Metode pembayaran yang paling sering digunakan pada bulan Juli adalah Credit Card sebanyak 80 kali.\n",
    "8. August: Metode pembayaran yang paling sering digunakan pada bulan Agustus adalah UPI sebanyak 88 kali.\n",
    "9. September: Metode pembayaran yang paling sering digunakan pada bulan September adalah UPI sebanyak 80 kali.\n",
    "10. October: Metode pembayaran yang paling sering digunakan pada bulan Oktober adalah UPI sebanyak 85 kali.\n",
    "11. November: Metode pembayaran yang paling sering digunakan pada bulan November adalah Cash on Delivery sebanyak 58 kali."
   ]
  },
  {
   "cell_type": "markdown",
   "id": "44f4c9d1-381d-402d-ae85-04b3ee4b9943",
   "metadata": {
    "jp-MarkdownHeadingCollapsed": true
   },
   "source": [
    "### **Eksplorasi Pertanyaan 5**\n",
    "**Apa kategori produk yang menghasilkan pendapatan tertinggi secara keseluruhan?**"
   ]
  },
  {
   "cell_type": "code",
   "execution_count": 33,
   "id": "4d91ff1e-bcf1-4828-89bc-e4712f35949c",
   "metadata": {},
   "outputs": [
    {
     "name": "stdout",
     "output_type": "stream",
     "text": [
      "Category\n",
      "Clothing          115314.7595\n",
      "Books             111149.2515\n",
      "Home & Kitchen    110328.1780\n",
      "Sports            108518.7530\n",
      "Toys              107289.8430\n",
      "Beauty            104215.0755\n",
      "Electronics       100462.2055\n",
      "Name: Final_Price(Rs.), dtype: float64\n"
     ]
    }
   ],
   "source": [
    "revenue_by_category = ecommerce_df.groupby('Category')['Final_Price(Rs.)'].sum().sort_values(ascending=False)\n",
    "print(revenue_by_category)"
   ]
  },
  {
   "cell_type": "markdown",
   "id": "e6abb4c7-0d08-44ba-a163-b8e840b788b7",
   "metadata": {},
   "source": [
    "#### **Insight**\n",
    "Kategori produk yang menghasilkan pendapatan tertinggi secara keseluruhan adalah kategori Clothing sebanyak 115,314.7595 Rs (Indian Rupe). Sedangkan, kategori produk yang menghasilkan pendapatan terendah secara keseluruhan adalah kategori Electronics sebanyak 100,462.2055 Rs (Indian Rupe)."
   ]
  },
  {
   "cell_type": "markdown",
   "id": "7b356154-7373-4fd8-8bdc-95985ba11a81",
   "metadata": {},
   "source": [
    "### **Eksplorasi Pertanyaan 6**\n",
    "**Apakah kategori produk yang dapat menghasilkan pendapatan tertinggi memiliki diskon atau potongan harga yang tinggi juga?**"
   ]
  },
  {
   "cell_type": "code",
   "execution_count": 39,
   "id": "f5bbb3ac-f6c2-4924-b2f5-9df4850369d2",
   "metadata": {},
   "outputs": [
    {
     "name": "stdout",
     "output_type": "stream",
     "text": [
      "         Category  Final_Price(Rs.)  Discount (%)\n",
      "2        Clothing       115314.7595     17.919021\n",
      "1           Books       111149.2515     19.035581\n",
      "4  Home & Kitchen       110328.1780     19.608379\n",
      "5          Sports       108518.7530     19.326923\n",
      "6            Toys       107289.8430     18.126195\n",
      "0          Beauty       104215.0755     18.475248\n",
      "3     Electronics       100462.2055     19.267068\n"
     ]
    }
   ],
   "source": [
    "category_analysis = ecommerce_df.groupby('Category').agg({\n",
    "    'Final_Price(Rs.)': 'sum',      \n",
    "    'Discount (%)': 'mean'     \n",
    "}).reset_index()\n",
    "category_analysis = category_analysis.sort_values('Final_Price(Rs.)', ascending=False)\n",
    "print(category_analysis)"
   ]
  },
  {
   "cell_type": "markdown",
   "id": "825b78f0-737c-485d-b491-687ff82ded66",
   "metadata": {},
   "source": [
    "#### **Insight**\n",
    "Kategori produk Clothing menghasilkan pendapatan tertinggi dari produk lainnya. Namun, kategori Clothing justru memiliki rata-rata diskon paling rendah diantara kategori produk lainnya."
   ]
  },
  {
   "cell_type": "markdown",
   "id": "93f9bdb5-0067-4fe7-9e7b-cecf4cf3b170",
   "metadata": {},
   "source": [
    "## **Visualization & Explanatory Analysis**"
   ]
  },
  {
   "cell_type": "markdown",
   "id": "38561a9a-73d2-4d6b-b848-7e9eb0f065ce",
   "metadata": {},
   "source": [
    "### Question 1: "
   ]
  },
  {
   "cell_type": "code",
   "execution_count": null,
   "id": "68c0861e-98d3-45ce-b21e-15d8e5ff2a2b",
   "metadata": {},
   "outputs": [],
   "source": []
  }
 ],
 "metadata": {
  "kernelspec": {
   "display_name": "Python 3 (ipykernel)",
   "language": "python",
   "name": "python3"
  },
  "language_info": {
   "codemirror_mode": {
    "name": "ipython",
    "version": 3
   },
   "file_extension": ".py",
   "mimetype": "text/x-python",
   "name": "python",
   "nbconvert_exporter": "python",
   "pygments_lexer": "ipython3",
   "version": "3.9.13"
  }
 },
 "nbformat": 4,
 "nbformat_minor": 5
}
